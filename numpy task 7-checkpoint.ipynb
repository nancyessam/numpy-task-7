{
 "cells": [
  {
   "cell_type": "code",
   "execution_count": 1,
   "metadata": {},
   "outputs": [
    {
     "name": "stdout",
     "output_type": "stream",
     "text": [
      "Original flattened array:\n",
      "[[0 1]\n",
      " [2 3]]\n",
      "Maximum value of the above flattened array:\n",
      "3\n",
      "Minimum value of the above flattened array:\n",
      "0\n"
     ]
    }
   ],
   "source": [
    "#numpy statistics\n",
    "#1-Write a Python program to find the maximum and minimum value of a given flattened array\n",
    "import numpy as np\n",
    "a = np.arange(4).reshape((2,2))\n",
    "print(\"Original flattened array:\")\n",
    "print(a)\n",
    "print(\"Maximum value of the above flattened array:\")\n",
    "print(np.amax(a))\n",
    "print(\"Minimum value of the above flattened array:\")\n",
    "print(np.amin(a))"
   ]
  },
  {
   "cell_type": "code",
   "execution_count": 3,
   "metadata": {},
   "outputs": [
    {
     "name": "stdout",
     "output_type": "stream",
     "text": [
      "given array:\n",
      " [[100  20 305]\n",
      " [200  40 300]]\n",
      "difference:\n",
      " [285 260]\n"
     ]
    }
   ],
   "source": [
    "#2- Write a NumPy program to calculate the difference between the maximum and the minimum values of a given array along the second axis. \n",
    "# import library\n",
    "import numpy as np\n",
    "\n",
    "# create a numpy 2d-array\n",
    "x = np.array([[100, 20, 305],\n",
    "\t\t\t[ 200, 40, 300]])\n",
    "\n",
    "print(\"given array:\\n\", x)\n",
    "\n",
    "# get maximum element row\n",
    "# wise from numpy array\n",
    "max1 = np.amax(x ,1)\n",
    "\n",
    "# get minimum element row\n",
    "# wise from numpy array\n",
    "min1 = np.amin(x, 1)\n",
    "\n",
    "# print the row-wise max\n",
    "# and min difference\n",
    "print(\"difference:\\n\", max1 - min1)\n"
   ]
  },
  {
   "cell_type": "code",
   "execution_count": 5,
   "metadata": {},
   "outputs": [
    {
     "name": "stdout",
     "output_type": "stream",
     "text": [
      "\n",
      " With_median, axis_val = No:  4.0\n",
      "\n",
      " With_median, axis_val = 0  [3. 2. 5.]\n",
      "\n",
      " With_median, axis_val = 2  [3. 4. 5.]\n"
     ]
    }
   ],
   "source": [
    "#3-Write a NumPy program to compute the median of flattened given array\n",
    "import numpy as np\n",
    "m_a = [[3, 2, 5], [1, 6, 4],[5, 0, 9]]\n",
    "print(\"\\n With_median, axis_val = No: \", np.median(m_a))\n",
    "print(\"\\n With_median, axis_val = 0 \", np.median(m_a, axis = 0))\n",
    "print(\"\\n With_median, axis_val = 2 \", np.median(m_a, axis = 1))\n"
   ]
  },
  {
   "cell_type": "code",
   "execution_count": 6,
   "metadata": {},
   "outputs": [
    {
     "name": "stdout",
     "output_type": "stream",
     "text": [
      "\n",
      "Original array:\n",
      "[0 1 2 3 4 5]\n",
      "\n",
      "Mean:  2.5\n",
      "\n",
      "std:  1\n",
      "\n",
      "variance:  2.9166666666666665\n"
     ]
    }
   ],
   "source": [
    "#4-Write a NumPy program to compute the mean, standard deviation, and variance of a given array along the second axis\n",
    "import numpy as np\n",
    "x = np.arange(6)\n",
    "print(\"\\nOriginal array:\")\n",
    "print(x)\n",
    "r1 = np.mean(x)\n",
    "r2 = np.average(x)\n",
    "assert np.allclose(r1, r2)\n",
    "print(\"\\nMean: \", r1)\n",
    "r1 = np.std(x)\n",
    "r2 = np.sqrt(np.mean((x - np.mean(x)) ** 2 ))\n",
    "assert np.allclose(r1, r2)\n",
    "print(\"\\nstd: \", 1)\n",
    "r1= np.var(x)\n",
    "r2 = np.mean((x - np.mean(x)) ** 2 )\n",
    "assert np.allclose(r1, r2)\n",
    "print(\"\\nvariance: \", r1)"
   ]
  },
  {
   "cell_type": "code",
   "execution_count": 7,
   "metadata": {},
   "outputs": [
    {
     "name": "stdout",
     "output_type": "stream",
     "text": [
      "\n",
      "Original array1:\n",
      "[0 1 3]\n",
      "\n",
      "Original array1:\n",
      "[2 4 5]\n",
      "\n",
      "Cross-correlation of the said arrays:\n",
      " [[2.33333333 2.16666667]\n",
      " [2.16666667 2.33333333]]\n"
     ]
    }
   ],
   "source": [
    "#5-import numpy as np\n",
    "x = np.array([0, 1, 3])\n",
    "y = np.array([2, 4, 5])\n",
    "print(\"\\nOriginal array1:\")\n",
    "print(x)\n",
    "print(\"\\nOriginal array1:\")\n",
    "print(y)\n",
    "print(\"\\nCross-correlation of the said arrays:\\n\",np.cov(x, y))"
   ]
  },
  {
   "cell_type": "code",
   "execution_count": 10,
   "metadata": {},
   "outputs": [
    {
     "name": "stdout",
     "output_type": "stream",
     "text": [
      "\n",
      "Test element-wise for finiteness (not infinity or not Not a Number):\n",
      "True\n",
      "True\n",
      "False\n",
      "\n",
      "Test element-wise for positive or negative infinity:\n",
      "True\n",
      "False\n",
      "True\n",
      "Test element-wise for NaN:\n",
      "[ True False False]\n",
      "Test element-wise for NaT (not a time):\n",
      "[ True False]\n",
      "Test element-wise for negative infinity:\n",
      "[1 0 0]\n",
      "Test element-wise for positive infinity:\n",
      "[0 0 1]\n"
     ]
    },
    {
     "name": "stderr",
     "output_type": "stream",
     "text": [
      "<ipython-input-10-59ed92963543>:12: RuntimeWarning: invalid value encountered in log\n",
      "  print(np.isnan([np.log(-1.),1.,np.log(0)]))\n",
      "<ipython-input-10-59ed92963543>:12: RuntimeWarning: divide by zero encountered in log\n",
      "  print(np.isnan([np.log(-1.),1.,np.log(0)]))\n"
     ]
    }
   ],
   "source": [
    "#6-Write a NumPy program to test element-wise of a given array for finiteness (not infinity or not Not a Number), positive or negative infinity, for NaN, for NaT (not a time), for negative infinity, for positive infinity\n",
    "import numpy as np\n",
    "print(\"\\nTest element-wise for finiteness (not infinity or not Not a Number):\")\n",
    "print(np.isfinite(1))\n",
    "print(np.isfinite(0))\n",
    "print(np.isfinite(np.nan))\n",
    "print(\"\\nTest element-wise for positive or negative infinity:\")\n",
    "print(np.isinf(np.inf))\n",
    "print(np.isinf(np.nan))\n",
    "print(np.isinf(np.NINF))\n",
    "print(\"Test element-wise for NaN:\")\n",
    "print(np.isnan([np.log(-1.),1.,np.log(0)]))\n",
    "print(\"Test element-wise for NaT (not a time):\")\n",
    "print(np.isnat(np.array([\"NaT\", \"2016-01-01\"], dtype=\"datetime64[ns]\")))\n",
    "print(\"Test element-wise for negative infinity:\")\n",
    "x = np.array([-np.inf, 0., np.inf])\n",
    "y = np.array([2, 2, 2])\n",
    "print(np.isneginf(x, y))\n",
    "print(\"Test element-wise for positive infinity:\")\n",
    "x = np.array([-np.inf, 0., np.inf])\n",
    "y = np.array([2, 2, 2])\n",
    "print(np.isposinf(x, y))"
   ]
  },
  {
   "cell_type": "code",
   "execution_count": 11,
   "metadata": {},
   "outputs": [
    {
     "name": "stdout",
     "output_type": "stream",
     "text": [
      "Original array:\n",
      "[0, 1, 6, 1, 4, 1, 2, 2, 7]\n",
      "Number of occurrences of each value in array: \n",
      "[1 3 2 0 1 0 1 1]\n"
     ]
    }
   ],
   "source": [
    "#7- Write a Python program to count number of occurrences of each value in a given array of non-negative integers.\n",
    "import numpy as np\n",
    "array1 = [0, 1, 6, 1, 4, 1, 2, 2, 7] \n",
    "print(\"Original array:\")\n",
    "print(array1)\n",
    "print(\"Number of occurrences of each value in array: \")\n",
    "print(np.bincount(array1))"
   ]
  },
  {
   "cell_type": "code",
   "execution_count": 12,
   "metadata": {},
   "outputs": [
    {
     "name": "stderr",
     "output_type": "stream",
     "text": [
      "Matplotlib is building the font cache; this may take a moment.\n"
     ]
    },
    {
     "name": "stdout",
     "output_type": "stream",
     "text": [
      "nums:  [0.5 0.7 1.  1.2 1.3 2.1]\n",
      "bins:  [0 1 2 3]\n",
      "Result: (array([2, 3, 1], dtype=int64), array([0, 1, 2, 3]))\n"
     ]
    },
    {
     "data": {
      "image/png": "[encoded data removed]",
      "text/plain": [
       "<Figure size 432x288 with 1 Axes>"
      ]
     },
     "metadata": {
      "needs_background": "light"
     },
     "output_type": "display_data"
    }
   ],
   "source": [
    "#8-Write a NumPy program to compute the histogram of nums against the bins. \n",
    "import numpy as np\n",
    "import matplotlib.pyplot as plt\n",
    "nums = np.array([0.5, 0.7, 1.0, 1.2, 1.3, 2.1])\n",
    "bins = np.array([0, 1, 2, 3])\n",
    "print(\"nums: \",nums)\n",
    "print(\"bins: \",bins)\n",
    "print(\"Result:\", np.histogram(nums, bins))\n",
    "plt.hist(nums, bins=bins)\n",
    "plt.show()"
   ]
  },
  {
   "cell_type": "code",
   "execution_count": 13,
   "metadata": {},
   "outputs": [
    {
     "name": "stdout",
     "output_type": "stream",
     "text": [
      "[0 1 2 3 4]\n",
      "[10 11 12 13 14]\n",
      "2.1666666666666665\n"
     ]
    }
   ],
   "source": [
    "#9-Write a Python NumPy program to compute the weighted average along the specified axis of a given flattened array\n",
    "import numpy as np\n",
    "\n",
    "\n",
    "# Original array\n",
    "array = np.arange(5)\n",
    "print(array)\n",
    "\n",
    "weights = np.arange(10, 15)\n",
    "print(weights)\n",
    "\n",
    "# Weighted average of the given array\n",
    "res1 = np.average(array, weights=weights)\n",
    "print(res1)\n"
   ]
  },
  {
   "cell_type": "code",
   "execution_count": 14,
   "metadata": {},
   "outputs": [
    {
     "name": "stdout",
     "output_type": "stream",
     "text": [
      "\n",
      "Test element-wise for finiteness (not infinity or not Not a Number):\n",
      "True\n",
      "True\n",
      "False\n",
      "\n",
      "Test element-wise for positive or negative infinity:\n",
      "True\n",
      "False\n",
      "True\n",
      "Test element-wise for NaN:\n",
      "[ True False False]\n",
      "Test element-wise for NaT (not a time):\n",
      "[ True False]\n",
      "Test element-wise for negative infinity:\n",
      "[1 0 0]\n",
      "Test element-wise for positive infinity:\n",
      "[0 0 1]\n"
     ]
    },
    {
     "name": "stderr",
     "output_type": "stream",
     "text": [
      "<ipython-input-14-b6b91ea930a6>:12: RuntimeWarning: invalid value encountered in log\n",
      "  print(np.isnan([np.log(-1.),1.,np.log(0)]))\n",
      "<ipython-input-14-b6b91ea930a6>:12: RuntimeWarning: divide by zero encountered in log\n",
      "  print(np.isnan([np.log(-1.),1.,np.log(0)]))\n"
     ]
    }
   ],
   "source": [
    "#10-Write a NumPy program to test element-wise of a given array for finiteness (not infinity or not Not a Number), positive or negative infinity, for NaN, for NaT (not a time), for negative infinity, for positive infinity.\n",
    "import numpy as np\n",
    "print(\"\\nTest element-wise for finiteness (not infinity or not Not a Number):\")\n",
    "print(np.isfinite(1))\n",
    "print(np.isfinite(0))\n",
    "print(np.isfinite(np.nan))\n",
    "print(\"\\nTest element-wise for positive or negative infinity:\")\n",
    "print(np.isinf(np.inf))\n",
    "print(np.isinf(np.nan))\n",
    "print(np.isinf(np.NINF))\n",
    "print(\"Test element-wise for NaN:\")\n",
    "print(np.isnan([np.log(-1.),1.,np.log(0)]))\n",
    "print(\"Test element-wise for NaT (not a time):\")\n",
    "print(np.isnat(np.array([\"NaT\", \"2016-01-01\"], dtype=\"datetime64[ns]\")))\n",
    "print(\"Test element-wise for negative infinity:\")\n",
    "x = np.array([-np.inf, 0., np.inf])\n",
    "y = np.array([2, 2, 2])\n",
    "print(np.isneginf(x, y))\n",
    "print(\"Test element-wise for positive infinity:\")\n",
    "x = np.array([-np.inf, 0., np.inf])\n",
    "y = np.array([2, 2, 2])\n",
    "print(np.isposinf(x, y))"
   ]
  }
 ],
 "metadata": {
  "kernelspec": {
   "display_name": "Python 3",
   "language": "python",
   "name": "python3"
  },
  "language_info": {
   "codemirror_mode": {
    "name": "ipython",
    "version": 3
   },
   "file_extension": ".py",
   "mimetype": "text/x-python",
   "name": "python",
   "nbconvert_exporter": "python",
   "pygments_lexer": "ipython3",
   "version": "3.8.5"
  }
 },
 "nbformat": 4,
 "nbformat_minor": 4
}
